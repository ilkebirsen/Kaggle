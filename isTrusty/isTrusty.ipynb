{
 "cells": [
  {
   "cell_type": "code",
   "execution_count": 34,
   "metadata": {},
   "outputs": [],
   "source": [
    "import pandas as pd"
   ]
  },
  {
   "cell_type": "code",
   "execution_count": null,
   "metadata": {},
   "outputs": [
    {
     "name": "stdout",
     "output_type": "stream",
     "text": [
      "Check the website trustworthiness(e.g. www.google.com) = sdlkfjg\n",
      "no\n",
      "Check the website trustworthiness(e.g. www.google.com) = msn\n",
      "Trustworthiness of website msn is Excellent\n",
      "Check the website trustworthiness(e.g. www.google.com) = word\n",
      "Trustworthiness of website word is Good\n"
     ]
    }
   ],
   "source": [
    "df = pd.read_csv(r\"\popular-websites-across-the-globe\\websites.csv\", usecols=['Website', 'Trustworthiness'], encoding='ISO-8859-1')\n",
    "\n",
    "choice = input(\"Check the website trustworthiness(e.g. www.google.com) = \")\n",
    "\n",
    "while choice != \"exit\":\n",
    "        choice = choice.lower()\n",
    "        for index, row in df.iterrows():\n",
    "            if choice in row['Website']:\n",
    "                print(\"Trustworthiness of website {} is\".format(choice), row['Trustworthiness'])\n",
    "                choice = input(\"Check the website trustworthiness(e.g. www.google.com) = \")\n",
    "        \n",
    "        if choice not in row['Website']:\n",
    "            print(\"no\")\n",
    "            choice = input(\"Check the website trustworthiness(e.g. www.google.com) = \")"
   ]
  }
 ],
 "metadata": {
  "kernelspec": {
   "display_name": "Python 3",
   "language": "python",
   "name": "python3"
  },
  "language_info": {
   "codemirror_mode": {
    "name": "ipython",
    "version": 3
   },
   "file_extension": ".py",
   "mimetype": "text/x-python",
   "name": "python",
   "nbconvert_exporter": "python",
   "pygments_lexer": "ipython3",
   "version": "3.7.6"
  }
 },
 "nbformat": 4,
 "nbformat_minor": 4
}
